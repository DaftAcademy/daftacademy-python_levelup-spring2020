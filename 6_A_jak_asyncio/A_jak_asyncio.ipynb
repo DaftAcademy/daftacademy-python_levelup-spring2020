{
 "cells": [
  {
   "cell_type": "markdown",
   "metadata": {
    "slideshow": {
     "slide_type": "slide"
    }
   },
   "source": [
    "![Logo kursu Python Level Up](https://raw.githubusercontent.com/daftcode/daftacademy-python_levelup-spring2020/master/logo.png)"
   ]
  },
  {
   "cell_type": "markdown",
   "metadata": {
    "slideshow": {
     "slide_type": "subslide"
    }
   },
   "source": [
    "![Plan kursu](https://raw.githubusercontent.com/daftcode/daftacademy-python_levelup-spring2020/master/program.png)"
   ]
  },
  {
   "cell_type": "markdown",
   "metadata": {
    "slideshow": {
     "slide_type": "slide"
    }
   },
   "source": [
    "# A jak Asyncio\n",
    "\n",
    "\n",
    "### Marcin Jaroszewski\n",
    "### Python level up 2020\n",
    "### 11.05.2020"
   ]
  },
  {
   "cell_type": "markdown",
   "metadata": {
    "slideshow": {
     "slide_type": "subslide"
    }
   },
   "source": [
    "# 1. Wstemp teokratyczny"
   ]
  },
  {
   "cell_type": "markdown",
   "metadata": {
    "slideshow": {
     "slide_type": "fragment"
    }
   },
   "source": [
    "Bardzo polecam książkę: https://www.amazon.com/Modern-Operating-Systems-Andrew-Tanenbaum/dp/013359162X"
   ]
  },
  {
   "cell_type": "markdown",
   "metadata": {
    "slideshow": {
     "slide_type": "subslide"
    }
   },
   "source": [
    "## 1.1 Ein procesor, ein rdzeń"
   ]
  },
  {
   "cell_type": "markdown",
   "metadata": {
    "slideshow": {
     "slide_type": "fragment"
    }
   },
   "source": [
    "Jak to było kiedy komputery miały jeden procesor, jakie były ograniczenia, problemy i wyzwania (np `time slicing`)."
   ]
  },
  {
   "cell_type": "markdown",
   "metadata": {
    "slideshow": {
     "slide_type": "subslide"
    }
   },
   "source": [
    "## 1.2 Ein procesor, viel rdzeni "
   ]
  },
  {
   "cell_type": "markdown",
   "metadata": {
    "slideshow": {
     "slide_type": "fragment"
    }
   },
   "source": [
    "Miało być tak pięknie - ale rzeczywistość nas dogoniła."
   ]
  },
  {
   "cell_type": "markdown",
   "metadata": {
    "slideshow": {
     "slide_type": "subslide"
    }
   },
   "source": [
    "## 1.3 Proces"
   ]
  },
  {
   "cell_type": "markdown",
   "metadata": {
    "slideshow": {
     "slide_type": "fragment"
    }
   },
   "source": [
    "W zasadzie: wykonywany program (jeden), można w wielu procesach uruchomić wiele \"kopii\" tego samego programu. Kontrolowany prez syste operacyjny. "
   ]
  },
  {
   "cell_type": "markdown",
   "metadata": {
    "slideshow": {
     "slide_type": "fragment"
    }
   },
   "source": [
    "- pamięć\n",
    "- czas procesora\n",
    "- IPC"
   ]
  },
  {
   "cell_type": "markdown",
   "metadata": {
    "slideshow": {
     "slide_type": "fragment"
    }
   },
   "source": [
    "https://pl.wikipedia.org/wiki/Proces_(informatyka)"
   ]
  },
  {
   "cell_type": "markdown",
   "metadata": {
    "slideshow": {
     "slide_type": "subslide"
    }
   },
   "source": [
    "## 1.4 Wontek"
   ]
  },
  {
   "cell_type": "markdown",
   "metadata": {
    "slideshow": {
     "slide_type": "fragment"
    }
   },
   "source": [
    "Są przynajmniej 2 rodzaje:\n",
    "- systemu operacyjnego\n",
    "- zielone"
   ]
  },
  {
   "cell_type": "markdown",
   "metadata": {
    "slideshow": {
     "slide_type": "fragment"
    }
   },
   "source": [
    "Różnice względem procesu:\n",
    "- pamięć\n",
    "- czas procesora\n",
    "- IPC"
   ]
  },
  {
   "cell_type": "markdown",
   "metadata": {
    "slideshow": {
     "slide_type": "fragment"
    }
   },
   "source": [
    "https://pl.wikipedia.org/wiki/W%C4%85tek_(informatyka)"
   ]
  },
  {
   "cell_type": "markdown",
   "metadata": {
    "slideshow": {
     "slide_type": "subslide"
    }
   },
   "source": [
    "## 1.5 Concurency"
   ]
  },
  {
   "cell_type": "markdown",
   "metadata": {
    "slideshow": {
     "slide_type": "fragment"
    }
   },
   "source": [
    "`Concurrency means multiple computations are happening at the same time. Concurrency is everywhere in modern programming` - za https://web.mit.edu/6.005/www/fa14/classes/17-concurrency/"
   ]
  },
  {
   "cell_type": "markdown",
   "metadata": {
    "slideshow": {
     "slide_type": "fragment"
    }
   },
   "source": [
    "Zauważmy, że w \"definicji\" nie jest limitowane, gdzie się dzieją \"obliczenia\"."
   ]
  },
  {
   "cell_type": "markdown",
   "metadata": {
    "slideshow": {
     "slide_type": "subslide"
    }
   },
   "source": [
    "## 1.6 Paralellism"
   ]
  },
  {
   "cell_type": "markdown",
   "metadata": {
    "slideshow": {
     "slide_type": "fragment"
    }
   },
   "source": [
    "Współbieżność"
   ]
  },
  {
   "cell_type": "markdown",
   "metadata": {
    "slideshow": {
     "slide_type": "fragment"
    }
   },
   "source": [
    "```\n",
    "Concurrency is when two or more tasks can start, run, and complete in overlapping time periods. It doesn't necessarily mean they'll ever both be running at the same instant. For example, multitasking on a single-core machine.\n",
    "\n",
    "Parallelism is when tasks literally run at the same time, e.g., on a multicore processor.\n",
    "```\n",
    "za https://stackoverflow.com/a/1050257"
   ]
  },
  {
   "cell_type": "markdown",
   "metadata": {
    "slideshow": {
     "slide_type": "subslide"
    }
   },
   "source": [
    "## 1.8 Synchronizacja"
   ]
  },
  {
   "cell_type": "markdown",
   "metadata": {
    "slideshow": {
     "slide_type": "fragment"
    }
   },
   "source": [
    "- sekcje krytyczne\n",
    "- locki\n",
    "- mutexy\n",
    "- semafory\n",
    "- inne"
   ]
  },
  {
   "cell_type": "markdown",
   "metadata": {
    "slideshow": {
     "slide_type": "subslide"
    }
   },
   "source": [
    "## 1.9 Rodzaje obciążeń"
   ]
  },
  {
   "cell_type": "markdown",
   "metadata": {
    "slideshow": {
     "slide_type": "fragment"
    }
   },
   "source": [
    "- CPU\n",
    "- IO"
   ]
  },
  {
   "cell_type": "markdown",
   "metadata": {
    "slideshow": {
     "slide_type": "subslide"
    }
   },
   "source": [
    "# 2. A co na to Python?"
   ]
  },
  {
   "cell_type": "markdown",
   "metadata": {
    "slideshow": {
     "slide_type": "subslide"
    }
   },
   "source": [
    "## 2.1 `multiprocessing`"
   ]
  },
  {
   "cell_type": "markdown",
   "metadata": {
    "slideshow": {
     "slide_type": "fragment"
    }
   },
   "source": [
    "https://docs.python.org/3.8/library/multiprocessing.html"
   ]
  },
  {
   "cell_type": "markdown",
   "metadata": {
    "slideshow": {
     "slide_type": "subslide"
    }
   },
   "source": [
    "## 2.2 `subprocess`"
   ]
  },
  {
   "cell_type": "markdown",
   "metadata": {
    "slideshow": {
     "slide_type": "fragment"
    }
   },
   "source": [
    "https://docs.python.org/3/library/subprocess.html"
   ]
  },
  {
   "cell_type": "markdown",
   "metadata": {
    "slideshow": {
     "slide_type": "subslide"
    }
   },
   "source": [
    "## 2.3 `threading`"
   ]
  },
  {
   "cell_type": "markdown",
   "metadata": {
    "slideshow": {
     "slide_type": "fragment"
    }
   },
   "source": [
    "https://docs.python.org/3/library/threading.html"
   ]
  },
  {
   "cell_type": "markdown",
   "metadata": {
    "slideshow": {
     "slide_type": "subslide"
    }
   },
   "source": [
    "## 2.4 GIL - Global Interpreter Lock"
   ]
  },
  {
   "cell_type": "markdown",
   "metadata": {
    "slideshow": {
     "slide_type": "fragment"
    }
   },
   "source": [
    "https://wiki.python.org/moin/GlobalInterpreterLock"
   ]
  },
  {
   "cell_type": "markdown",
   "metadata": {
    "slideshow": {
     "slide_type": "fragment"
    }
   },
   "source": [
    "jak się ma GIL do:\n",
    "- threading w Python\n",
    "- C pod spodem niektórych modułów\n",
    "- zewnętrznych bibliotek np `numpy`"
   ]
  },
  {
   "cell_type": "markdown",
   "metadata": {
    "slideshow": {
     "slide_type": "subslide"
    }
   },
   "source": [
    "## 2.5 `asyncio`"
   ]
  },
  {
   "cell_type": "markdown",
   "metadata": {
    "slideshow": {
     "slide_type": "fragment"
    }
   },
   "source": [
    "https://docs.python.org/3/library/asyncio.html"
   ]
  },
  {
   "cell_type": "markdown",
   "metadata": {
    "slideshow": {
     "slide_type": "fragment"
    }
   },
   "source": [
    "`Cooperative multitasking` - dzisiejsza nazwa wytrych. "
   ]
  },
  {
   "cell_type": "markdown",
   "metadata": {
    "slideshow": {
     "slide_type": "fragment"
    }
   },
   "source": [
    "Przykład z szachami."
   ]
  },
  {
   "cell_type": "markdown",
   "metadata": {
    "slideshow": {
     "slide_type": "slide"
    }
   },
   "source": [
    "# 3. Słowniczek"
   ]
  },
  {
   "cell_type": "markdown",
   "metadata": {
    "slideshow": {
     "slide_type": "fragment"
    }
   },
   "source": [
    "- event loop\n",
    "- awaitable\n",
    "- coroutine\n",
    "- `async`\n",
    "- `await`"
   ]
  },
  {
   "cell_type": "markdown",
   "metadata": {
    "slideshow": {
     "slide_type": "slide"
    }
   },
   "source": [
    "# 4. Przykłady"
   ]
  },
  {
   "cell_type": "markdown",
   "metadata": {
    "slideshow": {
     "slide_type": "fragment"
    }
   },
   "source": [
    "Będziemy odpytywać urle z dwóch plików"
   ]
  },
  {
   "cell_type": "markdown",
   "metadata": {
    "slideshow": {
     "slide_type": "subslide"
    }
   },
   "source": [
    "urls\n",
    "```\n",
    "http://httpbin.org/delay/9\n",
    "http://httpbin.org/delay/8\n",
    "http://httpbin.org/delay/7\n",
    "http://httpbin.org/delay/6\n",
    "http://httpbin.org/delay/5\n",
    "http://httpbin.org/delay/4\n",
    "http://httpbin.org/delay/3\n",
    "http://httpbin.org/delay/2\n",
    "http://httpbin.org/delay/1\n",
    "```"
   ]
  },
  {
   "cell_type": "markdown",
   "metadata": {
    "slideshow": {
     "slide_type": "subslide"
    }
   },
   "source": [
    "urls_2\n",
    "```\n",
    "http://httpbin.org/delay/1\n",
    "http://httpbin.org/delay/1\n",
    "http://httpbin.org/delay/1\n",
    "http://httpbin.org/delay/1\n",
    "http://httpbin.org/delay/1\n",
    "http://httpbin.org/delay/1\n",
    "http://httpbin.org/delay/1\n",
    "http://httpbin.org/delay/1\n",
    "http://httpbin.org/delay/1\n",
    "http://httpbin.org/delay/1\n",
    "http://httpbin.org/delay/1\n",
    "http://httpbin.org/delay/1\n",
    "http://httpbin.org/delay/1\n",
    "http://httpbin.org/delay/1\n",
    "http://httpbin.org/delay/1\n",
    "http://httpbin.org/delay/1\n",
    "http://httpbin.org/delay/1\n",
    "http://httpbin.org/delay/1\n",
    "http://httpbin.org/delay/1\n",
    "http://httpbin.org/delay/1\n",
    "```"
   ]
  },
  {
   "cell_type": "markdown",
   "metadata": {
    "slideshow": {
     "slide_type": "subslide"
    }
   },
   "source": [
    "## 4.1 Synchroniczne odpytywanie z requests"
   ]
  },
  {
   "cell_type": "markdown",
   "metadata": {
    "slideshow": {
     "slide_type": "subslide"
    }
   },
   "source": [
    "```python\n",
    "import time\n",
    "\n",
    "import requests\n",
    "\n",
    "\n",
    "responses = []\n",
    "\n",
    "urls_f_name = 'urls'\n",
    "# urls_f_name = 'urls_2'\n",
    "start = time.time()\n",
    "with open(urls_f_name, 'r') as f:\n",
    "    for line in f.readlines():\n",
    "        print(f'Checking {line}')\n",
    "        resp = requests.get(line)\n",
    "        responses.append(resp)\n",
    "end = time.time()\n",
    "\n",
    "print(f'elapsed: {end - start} seconds')\n",
    "```"
   ]
  },
  {
   "cell_type": "markdown",
   "metadata": {
    "slideshow": {
     "slide_type": "subslide"
    }
   },
   "source": [
    "## 4.2 Asynchrnoniczne odptywanie z requests"
   ]
  },
  {
   "cell_type": "markdown",
   "metadata": {
    "slideshow": {
     "slide_type": "fragment"
    }
   },
   "source": [
    "Nie da się - bo `requests` jest \"blokujące\"."
   ]
  },
  {
   "cell_type": "markdown",
   "metadata": {
    "slideshow": {
     "slide_type": "fragment"
    }
   },
   "source": [
    "O co chodzi z blokowaniem w kontekście biblitek/modułów **WAŻNE**"
   ]
  },
  {
   "cell_type": "markdown",
   "metadata": {
    "slideshow": {
     "slide_type": "subslide"
    }
   },
   "source": [
    "## 4.3 Asynchroniczne odpytywanie z `httpx` lub `aiohttp` **CODING GONE LIVE** "
   ]
  },
  {
   "cell_type": "markdown",
   "metadata": {
    "slideshow": {
     "slide_type": "fragment"
    }
   },
   "source": [
    "- httpx: https://github.com/encode/httpx\n",
    "- aiohttp: https://docs.aiohttp.org/en/stable/"
   ]
  },
  {
   "cell_type": "markdown",
   "metadata": {
    "slideshow": {
     "slide_type": "subslide"
    }
   },
   "source": [
    "v. 1\n",
    "```python\n",
    "import asyncio\n",
    "import time\n",
    "\n",
    "import httpx\n",
    "\n",
    "\n",
    "responses = []\n",
    "urls_f_name = 'urls'\n",
    "\n",
    "\n",
    "async def main():\n",
    "    with open(urls_f_name, 'r') as f:\n",
    "        async with httpx.AsyncClient(timeout=15) as client:\n",
    "            for line in f.readlines():\n",
    "                print(f'Checking {line}')\n",
    "                resp = await client.get(line)\n",
    "                responses.append(resp)    \n",
    "\n",
    "\n",
    "if __name__ == '__main__':\n",
    "    start = time.time()\n",
    "    asyncio.run(main())\n",
    "    end = time.time()\n",
    "    print(f'elapsed: {end - start} seconds')\n",
    "\n",
    "```"
   ]
  },
  {
   "cell_type": "markdown",
   "metadata": {
    "slideshow": {
     "slide_type": "subslide"
    }
   },
   "source": [
    "v. 2\n",
    "```python\n",
    "import asyncio\n",
    "import time\n",
    "\n",
    "import httpx\n",
    "\n",
    "\n",
    "responses = []\n",
    "urls_f_name = 'urls'\n",
    "urls_f_name = 'urls_2'\n",
    "\n",
    "partials = []\n",
    "async def get(url, client):\n",
    "    print(f'Checking {url}')\n",
    "    start = time.time()\n",
    "    resp = await client.get(url)\n",
    "    end = time.time()\n",
    "    partials.append(end-start)\n",
    "    responses.append(resp)\n",
    "\n",
    "async def main():\n",
    "    with open(urls_f_name, 'r') as f:\n",
    "        async with httpx.AsyncClient(timeout=15) as client:\n",
    "            coroutines = []\n",
    "            for line in f.readlines():\n",
    "                coroutines.append(get(line, client))\n",
    "            await asyncio.gather(*coroutines)\n",
    "\n",
    "\n",
    "if __name__ == '__main__':\n",
    "    start = time.time()\n",
    "    asyncio.run(main())\n",
    "    end = time.time()\n",
    "    print(f'elapsed: {end - start} seconds')\n",
    "    print(f'total partials: {sum(partials)}')\n",
    "```"
   ]
  },
  {
   "cell_type": "markdown",
   "metadata": {
    "slideshow": {
     "slide_type": "subslide"
    }
   },
   "source": [
    "## 4.4 Wyjaśnienie różnic w przykładach i wynikach"
   ]
  },
  {
   "cell_type": "markdown",
   "metadata": {
    "slideshow": {
     "slide_type": "slide"
    }
   },
   "source": [
    "# 5. Jak to się ma do apek webowych?"
   ]
  },
  {
   "cell_type": "markdown",
   "metadata": {
    "slideshow": {
     "slide_type": "fragment"
    }
   },
   "source": [
    "https://12factor.net/"
   ]
  },
  {
   "cell_type": "markdown",
   "metadata": {
    "slideshow": {
     "slide_type": "subslide"
    }
   },
   "source": [
    "## 5.1 Synchoroniczna apka z jednym workerem "
   ]
  },
  {
   "cell_type": "markdown",
   "metadata": {
    "slideshow": {
     "slide_type": "subslide"
    }
   },
   "source": [
    "## 5.2 Asynchroniczna apka z jednym workerem"
   ]
  },
  {
   "cell_type": "markdown",
   "metadata": {
    "slideshow": {
     "slide_type": "slide"
    }
   },
   "source": [
    "# 6. Uwagi końcowe"
   ]
  },
  {
   "cell_type": "markdown",
   "metadata": {
    "slideshow": {
     "slide_type": "subslide"
    }
   },
   "source": [
    "## 6.1 czemu `asleep(0)` bywa dobrym pomysłem, ale nie zawsze"
   ]
  },
  {
   "cell_type": "markdown",
   "metadata": {
    "slideshow": {
     "slide_type": "fragment"
    }
   },
   "source": [
    "https://stackoverflow.com/questions/55857581/converting-small-functions-to-coroutines/55866425#55866425"
   ]
  },
  {
   "cell_type": "markdown",
   "metadata": {
    "slideshow": {
     "slide_type": "fragment"
    }
   },
   "source": [
    "https://stackoverflow.com/questions/41932359/timeout-for-python-coroutines/48816319#48816319"
   ]
  },
  {
   "cell_type": "markdown",
   "metadata": {
    "slideshow": {
     "slide_type": "fragment"
    }
   },
   "source": [
    "```\n",
    "It means \"request value from the provided awaitable object, yielding control to the event loop if the object indicates that it does not have a value ready.\" The if is crucial: if the object does have a value ready, this value will be used immediately without ever deferring to the event loop. In other words, await doesn't guarantee that the event loop will get a chance to run.\n",
    "```"
   ]
  },
  {
   "cell_type": "markdown",
   "metadata": {
    "slideshow": {
     "slide_type": "slide"
    }
   },
   "source": [
    "# 7. Pytania?"
   ]
  },
  {
   "cell_type": "markdown",
   "metadata": {
    "slideshow": {
     "slide_type": "slide"
    }
   },
   "source": [
    "# 8. Wincyjj materiałuff"
   ]
  },
  {
   "cell_type": "markdown",
   "metadata": {
    "slideshow": {
     "slide_type": "subslide"
    }
   },
   "source": [
    "Real Python:\n",
    "- https://realpython.com/async-io-python/\n",
    "\n",
    "Łukasz Langa (bardzo polecam):\n",
    "1. https://www.youtube.com/watch?v=Xbl7XjFYsN4\n",
    "2. https://www.youtube.com/watch?v=E7Yn5biBZ58\n",
    "3. https://www.youtube.com/watch?v=-CzqsgaXUM8\n",
    "4. ma być jeszcze kilka\n"
   ]
  },
  {
   "cell_type": "markdown",
   "metadata": {
    "slideshow": {
     "slide_type": "slide"
    }
   },
   "source": [
    "# 8. That's all folks"
   ]
  }
 ],
 "metadata": {
  "celltoolbar": "Slideshow",
  "kernelspec": {
   "display_name": "Python 3",
   "language": "python",
   "name": "python3"
  },
  "language_info": {
   "codemirror_mode": {
    "name": "ipython",
    "version": 3
   },
   "file_extension": ".py",
   "mimetype": "text/x-python",
   "name": "python",
   "nbconvert_exporter": "python",
   "pygments_lexer": "ipython3",
   "version": "3.8.2"
  }
 },
 "nbformat": 4,
 "nbformat_minor": 4
}
