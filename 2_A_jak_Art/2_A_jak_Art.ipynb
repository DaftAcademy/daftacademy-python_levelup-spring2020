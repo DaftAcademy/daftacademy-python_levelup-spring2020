{
 "cells": [
  {
   "cell_type": "markdown",
   "metadata": {
    "slideshow": {
     "slide_type": "slide"
    }
   },
   "source": [
    "# A jak Art\n",
    "\n",
    "### Marcin Jaroszewski\n",
    "### Python level up 2020\n",
    "### 06.IV.2020"
   ]
  },
  {
   "cell_type": "markdown",
   "metadata": {
    "slideshow": {
     "slide_type": "subslide"
    }
   },
   "source": [
    "![Logo kursu Python Level Up](https://raw.githubusercontent.com/daftcode/daftacademy-python_levelup-spring2020/master/logo.png)"
   ]
  },
  {
   "cell_type": "markdown",
   "metadata": {
    "slideshow": {
     "slide_type": "subslide"
    }
   },
   "source": [
    "![Plan kursu](https://raw.githubusercontent.com/daftcode/daftacademy-python_levelup-spring2020/master/program.png)"
   ]
  },
  {
   "cell_type": "markdown",
   "metadata": {
    "slideshow": {
     "slide_type": "slide"
    }
   },
   "source": [
    "# 1. Głosy z przeszłości"
   ]
  },
  {
   "cell_type": "markdown",
   "metadata": {
    "slideshow": {
     "slide_type": "fragment"
    }
   },
   "source": [
    "Na ostatnich zajęciach pokazałem coś takiego:\n",
    "```python\n",
    "@app.get(\"/\")\n",
    "def root():\n",
    "    return {\"message\": \"Hello World\"}\n",
    "```"
   ]
  },
  {
   "cell_type": "markdown",
   "metadata": {
    "slideshow": {
     "slide_type": "fragment"
    }
   },
   "source": [
    "i\n",
    "```python\n",
    "@pytest.mark.parametrize(\"name\", ['Zenek', 'Marek', 'Alojzy Niezdąży'])\n",
    "def test_hello_name(name):\n",
    "    response = client.get(f\"/hello/{name}\")\n",
    "    assert response.status_code == 200\n",
    "    assert response.text == f'\"Hello {name}\"'\n",
    "```"
   ]
  },
  {
   "cell_type": "markdown",
   "metadata": {
    "slideshow": {
     "slide_type": "fragment"
    }
   },
   "source": [
    "Padło pytanie co oznacza `@`."
   ]
  },
  {
   "cell_type": "markdown",
   "metadata": {
    "slideshow": {
     "slide_type": "fragment"
    }
   },
   "source": [
    "Zapis z `@` nad funkcją lub klasą oznacza dekorator."
   ]
  },
  {
   "cell_type": "markdown",
   "metadata": {
    "slideshow": {
     "slide_type": "slide"
    }
   },
   "source": [
    "# 2. Czym jest dekorator"
   ]
  },
  {
   "cell_type": "markdown",
   "metadata": {
    "slideshow": {
     "slide_type": "subslide"
    }
   },
   "source": [
    "Dekorator to fragment kodu \"opakowujący\" inny fragment kodu."
   ]
  },
  {
   "cell_type": "markdown",
   "metadata": {
    "slideshow": {
     "slide_type": "subslide"
    }
   },
   "source": [
    "Kod \"opakowujący\" może być wykonany względem kodu \"opakowanego\":\n",
    "* przed\n",
    "* po\n",
    "* zamiast"
   ]
  },
  {
   "cell_type": "markdown",
   "metadata": {
    "slideshow": {
     "slide_type": "subslide"
    }
   },
   "source": [
    "Akt \"opakowywania\" dzieje się w momencie importowania modułu zwaierającego \"opakowawywany\" fragment kodu. Czyli w runtime. Ma to swoje konsekwencje, o których trzeba pamiętać."
   ]
  },
  {
   "cell_type": "markdown",
   "metadata": {
    "slideshow": {
     "slide_type": "subslide"
    }
   },
   "source": [
    "## Do czego są wykorzystywane dekoratory"
   ]
  },
  {
   "cell_type": "markdown",
   "metadata": {
    "slideshow": {
     "slide_type": "fragment"
    }
   },
   "source": [
    "* łatwego i czystego rozszerzania kodu\n",
    "* tworzenia cache\n",
    "* mechanizmy nieobecne bezpośrednio w python (frameworki)"
   ]
  },
  {
   "cell_type": "markdown",
   "metadata": {
    "slideshow": {
     "slide_type": "subslide"
    }
   },
   "source": [
    "## Co może być udekorowane"
   ]
  },
  {
   "cell_type": "markdown",
   "metadata": {
    "slideshow": {
     "slide_type": "fragment"
    }
   },
   "source": [
    "- Funkcje - względnie łatwe. Będzie na zajęciach.\n",
    "- Klasy - w zależności od sposobów użycia może być więcej lub mniej pracy. Moim zdaniem o rząd wielkości trudniejsze od dekoratorów funkcji. Nie będzie na wykładzie.\n",
    "- Metody - podobnie jak klasy."
   ]
  },
  {
   "cell_type": "markdown",
   "metadata": {
    "slideshow": {
     "slide_type": "subslide"
    }
   },
   "source": [
    "## Czym można dekorować"
   ]
  },
  {
   "cell_type": "markdown",
   "metadata": {
    "slideshow": {
     "slide_type": "fragment"
    }
   },
   "source": [
    "Obiektami \"callable\" czyli:\n",
    "* funkcjami\n",
    "* klasami z metodą `__call__`"
   ]
  },
  {
   "cell_type": "markdown",
   "metadata": {
    "slideshow": {
     "slide_type": "fragment"
    }
   },
   "source": [
    "Jak zwykle funkcje sa łatwe do opanowania. Klasy ciągną za sobą bagaż związany z dziedziczeniem i instancjonowaniem, co sprawia, że są trudniejsze."
   ]
  },
  {
   "cell_type": "markdown",
   "metadata": {
    "slideshow": {
     "slide_type": "subslide"
    }
   },
   "source": [
    "Teraz mniej więcej wiemy co dekoratory mogą. Zanim przejdziemy do kodzenia, zbudujemy bazę do zrozumienia kodu."
   ]
  },
  {
   "cell_type": "markdown",
   "metadata": {
    "slideshow": {
     "slide_type": "slide"
    }
   },
   "source": [
    "# 3. Przpomnienie pewnych konceptów"
   ]
  },
  {
   "cell_type": "markdown",
   "metadata": {
    "slideshow": {
     "slide_type": "subslide"
    }
   },
   "source": [
    "## Function as first-class citizen"
   ]
  },
  {
   "cell_type": "markdown",
   "metadata": {
    "slideshow": {
     "slide_type": "fragment"
    }
   },
   "source": [
    "Zwykle podaje się przykład, że można funkcję do zmiennej przekazywać. Coś w stylu:"
   ]
  },
  {
   "cell_type": "code",
   "execution_count": 28,
   "metadata": {
    "slideshow": {
     "slide_type": "subslide"
    }
   },
   "outputs": [
    {
     "name": "stdout",
     "output_type": "stream",
     "text": [
      "hello Wojtek\n",
      "hello Filip\n"
     ]
    }
   ],
   "source": [
    "def hello(name):\n",
    "    print('hello', name)\n",
    "\n",
    "say_hi = hello\n",
    "\n",
    "hello('Wojtek')\n",
    "say_hi('Filip')"
   ]
  },
  {
   "cell_type": "markdown",
   "metadata": {
    "slideshow": {
     "slide_type": "fragment"
    }
   },
   "source": [
    "Ale w python można więcej!"
   ]
  },
  {
   "cell_type": "markdown",
   "metadata": {
    "slideshow": {
     "slide_type": "fragment"
    }
   },
   "source": [
    "Można ustawiać atrybuty na funkcjach!"
   ]
  },
  {
   "cell_type": "markdown",
   "metadata": {
    "slideshow": {
     "slide_type": "subslide"
    }
   },
   "source": [
    "## Atrybuty funkcji"
   ]
  },
  {
   "cell_type": "code",
   "execution_count": 29,
   "metadata": {
    "slideshow": {
     "slide_type": "subslide"
    }
   },
   "outputs": [
    {
     "ename": "AttributeError",
     "evalue": "'function' object has no attribute 'count'",
     "output_type": "error",
     "traceback": [
      "\u001b[0;31m---------------------------------------------------------------------------\u001b[0m",
      "\u001b[0;31mAttributeError\u001b[0m                            Traceback (most recent call last)",
      "\u001b[0;32m<ipython-input-29-d2918714abf5>\u001b[0m in \u001b[0;36m<module>\u001b[0;34m\u001b[0m\n\u001b[1;32m      5\u001b[0m \u001b[0msay_hi\u001b[0m \u001b[0;34m=\u001b[0m \u001b[0mhello\u001b[0m\u001b[0;34m\u001b[0m\u001b[0;34m\u001b[0m\u001b[0m\n\u001b[1;32m      6\u001b[0m \u001b[0;34m\u001b[0m\u001b[0m\n\u001b[0;32m----> 7\u001b[0;31m \u001b[0mhello\u001b[0m\u001b[0;34m(\u001b[0m\u001b[0;34m'Wojtek'\u001b[0m\u001b[0;34m)\u001b[0m\u001b[0;34m\u001b[0m\u001b[0;34m\u001b[0m\u001b[0m\n\u001b[0m\u001b[1;32m      8\u001b[0m \u001b[0msay_hi\u001b[0m\u001b[0;34m(\u001b[0m\u001b[0;34m'Filip'\u001b[0m\u001b[0;34m)\u001b[0m\u001b[0;34m\u001b[0m\u001b[0;34m\u001b[0m\u001b[0m\n",
      "\u001b[0;32m<ipython-input-29-d2918714abf5>\u001b[0m in \u001b[0;36mhello\u001b[0;34m(name)\u001b[0m\n\u001b[1;32m      1\u001b[0m \u001b[0;32mdef\u001b[0m \u001b[0mhello\u001b[0m\u001b[0;34m(\u001b[0m\u001b[0mname\u001b[0m\u001b[0;34m)\u001b[0m\u001b[0;34m:\u001b[0m\u001b[0;34m\u001b[0m\u001b[0;34m\u001b[0m\u001b[0m\n\u001b[0;32m----> 2\u001b[0;31m     \u001b[0mhello\u001b[0m\u001b[0;34m.\u001b[0m\u001b[0mcount\u001b[0m \u001b[0;34m+=\u001b[0m \u001b[0;36m1\u001b[0m\u001b[0;34m\u001b[0m\u001b[0;34m\u001b[0m\u001b[0m\n\u001b[0m\u001b[1;32m      3\u001b[0m     \u001b[0mprint\u001b[0m\u001b[0;34m(\u001b[0m\u001b[0;34m'hello'\u001b[0m\u001b[0;34m,\u001b[0m \u001b[0mname\u001b[0m\u001b[0;34m,\u001b[0m \u001b[0;34m'count:'\u001b[0m\u001b[0;34m,\u001b[0m \u001b[0mhello\u001b[0m\u001b[0;34m.\u001b[0m\u001b[0mcount\u001b[0m\u001b[0;34m)\u001b[0m\u001b[0;34m\u001b[0m\u001b[0;34m\u001b[0m\u001b[0m\n\u001b[1;32m      4\u001b[0m \u001b[0;34m\u001b[0m\u001b[0m\n\u001b[1;32m      5\u001b[0m \u001b[0msay_hi\u001b[0m \u001b[0;34m=\u001b[0m \u001b[0mhello\u001b[0m\u001b[0;34m\u001b[0m\u001b[0;34m\u001b[0m\u001b[0m\n",
      "\u001b[0;31mAttributeError\u001b[0m: 'function' object has no attribute 'count'"
     ]
    }
   ],
   "source": [
    "def hello(name):\n",
    "    hello.count += 1\n",
    "    print('hello', name, 'count:', hello.count)\n",
    "\n",
    "say_hi = hello\n",
    "\n",
    "hello('Wojtek')\n",
    "say_hi('Filip')"
   ]
  },
  {
   "cell_type": "code",
   "execution_count": 30,
   "metadata": {
    "slideshow": {
     "slide_type": "subslide"
    }
   },
   "outputs": [
    {
     "name": "stdout",
     "output_type": "stream",
     "text": [
      "hello Wojtek count: 1\n",
      "hello Filip count: 1\n"
     ]
    }
   ],
   "source": [
    "# najpierw atrybut trzeba zdefiniować :)\n",
    "def hello(name):\n",
    "    hello.count = 0\n",
    "    hello.count += 1\n",
    "    print('hello', name, 'count:', hello.count)\n",
    "\n",
    "say_hi = hello\n",
    "\n",
    "hello('Wojtek')\n",
    "say_hi('Filip')"
   ]
  },
  {
   "cell_type": "code",
   "execution_count": 31,
   "metadata": {
    "slideshow": {
     "slide_type": "subslide"
    }
   },
   "outputs": [
    {
     "name": "stdout",
     "output_type": "stream",
     "text": [
      "hello Wojtek count: 1\n",
      "hello Filip count: 2\n"
     ]
    }
   ],
   "source": [
    "# najpierw atrybut trzeba zdefiniować, ale tylko raz :)\n",
    "def hello(name):\n",
    "    # nie za bardzo jest opcja wewnątrz funkcji\n",
    "    hello.count += 1\n",
    "    print('hello', name, 'count:', hello.count)\n",
    "    \n",
    "# ale można na zewnątrz\n",
    "hello.count = 0\n",
    "\n",
    "say_hi = hello\n",
    "\n",
    "hello('Wojtek')\n",
    "say_hi('Filip')"
   ]
  },
  {
   "cell_type": "markdown",
   "metadata": {
    "slideshow": {
     "slide_type": "subslide"
    }
   },
   "source": [
    "Wykorzystywanie atrybutów funkcji było powszechne w python 2.7 i wcześniejszych, ponieważ `nonlocal` jeszcze nie istniało. Wiele kodu jest przeportowane z 2.7 do 3.x i łatwo można się natknąć na wykorzystanie arybutów. W nowym kodzie zalecam używanie `nonlocal`."
   ]
  },
  {
   "cell_type": "markdown",
   "metadata": {
    "slideshow": {
     "slide_type": "subslide"
    }
   },
   "source": [
    "## Scope"
   ]
  },
  {
   "cell_type": "markdown",
   "metadata": {
    "slideshow": {
     "slide_type": "subslide"
    }
   },
   "source": [
    "Zmienne mogą być zdefniowane na różnych poziomach i mają wynikającą z tego \"widoczność\"."
   ]
  },
  {
   "cell_type": "code",
   "execution_count": 32,
   "metadata": {
    "slideshow": {
     "slide_type": "subslide"
    }
   },
   "outputs": [
    {
     "ename": "UnboundLocalError",
     "evalue": "local variable 'a' referenced before assignment",
     "output_type": "error",
     "traceback": [
      "\u001b[0;31m---------------------------------------------------------------------------\u001b[0m",
      "\u001b[0;31mUnboundLocalError\u001b[0m                         Traceback (most recent call last)",
      "\u001b[0;32m<ipython-input-32-282945c4d749>\u001b[0m in \u001b[0;36m<module>\u001b[0;34m\u001b[0m\n\u001b[1;32m      9\u001b[0m     \u001b[0mprint\u001b[0m\u001b[0;34m(\u001b[0m\u001b[0;34m'add_something_to_a_and_b b:'\u001b[0m\u001b[0;34m,\u001b[0m \u001b[0mb\u001b[0m\u001b[0;34m)\u001b[0m\u001b[0;34m\u001b[0m\u001b[0;34m\u001b[0m\u001b[0m\n\u001b[1;32m     10\u001b[0m \u001b[0;34m\u001b[0m\u001b[0m\n\u001b[0;32m---> 11\u001b[0;31m \u001b[0madd_something_to_a_and_b\u001b[0m\u001b[0;34m(\u001b[0m\u001b[0;36m11\u001b[0m\u001b[0;34m)\u001b[0m\u001b[0;34m\u001b[0m\u001b[0;34m\u001b[0m\u001b[0m\n\u001b[0m\u001b[1;32m     12\u001b[0m \u001b[0mprint\u001b[0m\u001b[0;34m(\u001b[0m\u001b[0;34mf'{a=}'\u001b[0m\u001b[0;34m)\u001b[0m\u001b[0;34m\u001b[0m\u001b[0;34m\u001b[0m\u001b[0m\n\u001b[1;32m     13\u001b[0m \u001b[0mprint\u001b[0m\u001b[0;34m(\u001b[0m\u001b[0;34mf'{b=}'\u001b[0m\u001b[0;34m)\u001b[0m\u001b[0;34m\u001b[0m\u001b[0;34m\u001b[0m\u001b[0m\n",
      "\u001b[0;32m<ipython-input-32-282945c4d749>\u001b[0m in \u001b[0;36madd_something_to_a_and_b\u001b[0;34m(something)\u001b[0m\n\u001b[1;32m      4\u001b[0m \u001b[0;34m\u001b[0m\u001b[0m\n\u001b[1;32m      5\u001b[0m \u001b[0;32mdef\u001b[0m \u001b[0madd_something_to_a_and_b\u001b[0m\u001b[0;34m(\u001b[0m\u001b[0msomething\u001b[0m\u001b[0;34m)\u001b[0m\u001b[0;34m:\u001b[0m\u001b[0;34m\u001b[0m\u001b[0;34m\u001b[0m\u001b[0m\n\u001b[0;32m----> 6\u001b[0;31m     \u001b[0ma\u001b[0m \u001b[0;34m+=\u001b[0m \u001b[0msomething\u001b[0m\u001b[0;34m\u001b[0m\u001b[0;34m\u001b[0m\u001b[0m\n\u001b[0m\u001b[1;32m      7\u001b[0m     \u001b[0mb\u001b[0m \u001b[0;34m+=\u001b[0m \u001b[0msomething\u001b[0m\u001b[0;34m\u001b[0m\u001b[0;34m\u001b[0m\u001b[0m\n\u001b[1;32m      8\u001b[0m     \u001b[0mprint\u001b[0m\u001b[0;34m(\u001b[0m\u001b[0;34m'add_something_to_a_and_b a:'\u001b[0m\u001b[0;34m,\u001b[0m \u001b[0ma\u001b[0m\u001b[0;34m)\u001b[0m\u001b[0;34m\u001b[0m\u001b[0;34m\u001b[0m\u001b[0m\n",
      "\u001b[0;31mUnboundLocalError\u001b[0m: local variable 'a' referenced before assignment"
     ]
    }
   ],
   "source": [
    "# Przykład na zmienne \"globalne\"\n",
    "a = 1\n",
    "b = 101\n",
    "\n",
    "def add_something_to_a_and_b(something):\n",
    "    a += something\n",
    "    b += something\n",
    "    print('add_something_to_a_and_b a:', a)\n",
    "    print('add_something_to_a_and_b b:', b)\n",
    "\n",
    "add_something_to_a_and_b(11)\n",
    "print(f'{a=}')\n",
    "print(f'{b=}')"
   ]
  },
  {
   "cell_type": "code",
   "execution_count": 33,
   "metadata": {
    "slideshow": {
     "slide_type": "subslide"
    }
   },
   "outputs": [
    {
     "name": "stdout",
     "output_type": "stream",
     "text": [
      "add_something_to_a_and_b a: 12 id a: 9679584\n",
      "add_something_to_a_and_b b: 112 id b: 9682784\n",
      "a: 12 id a: 9679584\n",
      "b: 101 id b: 9682432\n"
     ]
    }
   ],
   "source": [
    "# Przykład na zmienne \"globalne\" działający\n",
    "a = 1\n",
    "b = 101\n",
    "\n",
    "def add_something_to_a_and_b(something):\n",
    "    global a\n",
    "    b = 101\n",
    "    a += something\n",
    "    b += something\n",
    "    print('add_something_to_a_and_b a:', a, 'id a:', id(a))\n",
    "    print('add_something_to_a_and_b b:', b, 'id b:', id(b))\n",
    "\n",
    "add_something_to_a_and_b(11)\n",
    "print('a:', a, 'id a:', id(a))\n",
    "print('b:', b, 'id b:', id(b))"
   ]
  },
  {
   "cell_type": "code",
   "execution_count": 34,
   "metadata": {
    "slideshow": {
     "slide_type": "subslide"
    }
   },
   "outputs": [
    {
     "name": "stdout",
     "output_type": "stream",
     "text": [
      "add_something_to_a_and_b a: [12] id a: 140469593816832\n",
      "a: [12] id a: 140469593816832\n"
     ]
    }
   ],
   "source": [
    "# Przykład na zmienne \"globalne\" z obiektami mutowalnymi\n",
    "a = [1]\n",
    "\n",
    "def add_something_to_a(something):\n",
    "    a[0] += something\n",
    "    print('add_something_to_a_and_b a:', a, 'id a:', id(a))\n",
    "\n",
    "add_something_to_a(11)\n",
    "print('a:', a, 'id a:', id(a))"
   ]
  },
  {
   "cell_type": "markdown",
   "metadata": {
    "slideshow": {
     "slide_type": "subslide"
    }
   },
   "source": [
    "Używanie zmiennych globalnych jest uznawane za nieprofesjonalne :)\n",
    "W większych projektach bardzo łatwo zrobić sobie i innym krzywdę modyfikując zawartość/stan zmiennych globalnych."
   ]
  },
  {
   "cell_type": "markdown",
   "metadata": {
    "slideshow": {
     "slide_type": "subslide"
    }
   },
   "source": [
    "## Closure"
   ]
  },
  {
   "cell_type": "code",
   "execution_count": 35,
   "metadata": {
    "slideshow": {
     "slide_type": "subslide"
    }
   },
   "outputs": [
    {
     "name": "stdout",
     "output_type": "stream",
     "text": [
      "hello Janek!\n",
      "hi Magda!\n",
      "hello Maciek!\n"
     ]
    }
   ],
   "source": [
    "def hey_hi_hello_factory(welcome_txt='hello'):\n",
    "    def greet(name):\n",
    "        print('{} {}!'.format(welcome_txt, name))\n",
    "    return greet\n",
    "        \n",
    "say_hello = hey_hi_hello_factory()\n",
    "say_hi = hey_hi_hello_factory('hi')\n",
    "\n",
    "say_hello('Janek')\n",
    "say_hi('Magda')\n",
    "say_hello('Maciek')"
   ]
  },
  {
   "cell_type": "markdown",
   "metadata": {
    "slideshow": {
     "slide_type": "subslide"
    }
   },
   "source": [
    "Mamy dostęp (read) do zmiennych zadeklarowanych w funkcji okalającej!"
   ]
  },
  {
   "cell_type": "markdown",
   "metadata": {
    "slideshow": {
     "slide_type": "subslide"
    }
   },
   "source": [
    "Mimo, że `say_hello` i `say_hi` są używane poza `hey_hi_hello_factory`!"
   ]
  },
  {
   "cell_type": "code",
   "execution_count": 36,
   "metadata": {
    "slideshow": {
     "slide_type": "subslide"
    }
   },
   "outputs": [
    {
     "ename": "UnboundLocalError",
     "evalue": "local variable 'counter' referenced before assignment",
     "output_type": "error",
     "traceback": [
      "\u001b[0;31m---------------------------------------------------------------------------\u001b[0m",
      "\u001b[0;31mUnboundLocalError\u001b[0m                         Traceback (most recent call last)",
      "\u001b[0;32m<ipython-input-36-856f7e3c269b>\u001b[0m in \u001b[0;36m<module>\u001b[0;34m\u001b[0m\n\u001b[1;32m      9\u001b[0m \u001b[0msay_hi\u001b[0m \u001b[0;34m=\u001b[0m \u001b[0mhey_hi_hello_factory\u001b[0m\u001b[0;34m(\u001b[0m\u001b[0;34m'hi'\u001b[0m\u001b[0;34m)\u001b[0m\u001b[0;34m\u001b[0m\u001b[0;34m\u001b[0m\u001b[0m\n\u001b[1;32m     10\u001b[0m \u001b[0;34m\u001b[0m\u001b[0m\n\u001b[0;32m---> 11\u001b[0;31m \u001b[0msay_hello\u001b[0m\u001b[0;34m(\u001b[0m\u001b[0;34m'Janek'\u001b[0m\u001b[0;34m)\u001b[0m\u001b[0;34m\u001b[0m\u001b[0;34m\u001b[0m\u001b[0m\n\u001b[0m\u001b[1;32m     12\u001b[0m \u001b[0msay_hi\u001b[0m\u001b[0;34m(\u001b[0m\u001b[0;34m'Magda'\u001b[0m\u001b[0;34m)\u001b[0m\u001b[0;34m\u001b[0m\u001b[0;34m\u001b[0m\u001b[0m\n\u001b[1;32m     13\u001b[0m \u001b[0msay_hello\u001b[0m\u001b[0;34m(\u001b[0m\u001b[0;34m'Maciek'\u001b[0m\u001b[0;34m)\u001b[0m\u001b[0;34m\u001b[0m\u001b[0;34m\u001b[0m\u001b[0m\n",
      "\u001b[0;32m<ipython-input-36-856f7e3c269b>\u001b[0m in \u001b[0;36mgreet\u001b[0;34m(name)\u001b[0m\n\u001b[1;32m      2\u001b[0m     \u001b[0mcounter\u001b[0m \u001b[0;34m=\u001b[0m \u001b[0;36m0\u001b[0m\u001b[0;34m\u001b[0m\u001b[0;34m\u001b[0m\u001b[0m\n\u001b[1;32m      3\u001b[0m     \u001b[0;32mdef\u001b[0m \u001b[0mgreet\u001b[0m\u001b[0;34m(\u001b[0m\u001b[0mname\u001b[0m\u001b[0;34m)\u001b[0m\u001b[0;34m:\u001b[0m\u001b[0;34m\u001b[0m\u001b[0;34m\u001b[0m\u001b[0m\n\u001b[0;32m----> 4\u001b[0;31m         \u001b[0mcounter\u001b[0m \u001b[0;34m+=\u001b[0m \u001b[0;36m1\u001b[0m\u001b[0;34m\u001b[0m\u001b[0;34m\u001b[0m\u001b[0m\n\u001b[0m\u001b[1;32m      5\u001b[0m         \u001b[0mprint\u001b[0m\u001b[0;34m(\u001b[0m\u001b[0;34m'{} {}!\\tcounter: {}'\u001b[0m\u001b[0;34m.\u001b[0m\u001b[0mformat\u001b[0m\u001b[0;34m(\u001b[0m\u001b[0mwelcome_txt\u001b[0m\u001b[0;34m,\u001b[0m \u001b[0mname\u001b[0m\u001b[0;34m,\u001b[0m \u001b[0mcounter\u001b[0m\u001b[0;34m)\u001b[0m\u001b[0;34m)\u001b[0m\u001b[0;34m\u001b[0m\u001b[0;34m\u001b[0m\u001b[0m\n\u001b[1;32m      6\u001b[0m     \u001b[0;32mreturn\u001b[0m \u001b[0mgreet\u001b[0m\u001b[0;34m\u001b[0m\u001b[0;34m\u001b[0m\u001b[0m\n",
      "\u001b[0;31mUnboundLocalError\u001b[0m: local variable 'counter' referenced before assignment"
     ]
    }
   ],
   "source": [
    "def hey_hi_hello_factory(welcome_txt='hello'):\n",
    "    counter = 0\n",
    "    def greet(name):\n",
    "        counter += 1\n",
    "        print('{} {}!\\tcounter: {}'.format(welcome_txt, name, counter))\n",
    "    return greet\n",
    "        \n",
    "say_hello = hey_hi_hello_factory()\n",
    "say_hi = hey_hi_hello_factory('hi')\n",
    "\n",
    "say_hello('Janek')\n",
    "say_hi('Magda')\n",
    "say_hello('Maciek')"
   ]
  },
  {
   "cell_type": "markdown",
   "metadata": {
    "slideshow": {
     "slide_type": "subslide"
    }
   },
   "source": [
    "Dostęp (write) do zmiennej zadeklarowanej w funkcji okalającej nie działa :("
   ]
  },
  {
   "cell_type": "markdown",
   "metadata": {
    "slideshow": {
     "slide_type": "subslide"
    }
   },
   "source": [
    "W python 2.7 skończylibyśmy w tym miejscu, bo nie było na ten problem rozwiązania eleganckiego.\n",
    "Dostępne opcje to obiekty mutowalne i korzystanie z atrybutów funkcji."
   ]
  },
  {
   "cell_type": "markdown",
   "metadata": {
    "slideshow": {
     "slide_type": "subslide"
    }
   },
   "source": [
    "Ale na szczęście jest już python w wersji 3.8 :)"
   ]
  },
  {
   "cell_type": "code",
   "execution_count": 37,
   "metadata": {
    "slideshow": {
     "slide_type": "subslide"
    }
   },
   "outputs": [
    {
     "name": "stdout",
     "output_type": "stream",
     "text": [
      "hello Janek!\tcounter: 1\n",
      "hi Magda!\tcounter: 1\n",
      "hello Maciek!\tcounter: 2\n",
      "hello Franek!\tcounter: 3\n",
      "hi Kamila!\tcounter: 2\n"
     ]
    }
   ],
   "source": [
    "def hey_hi_hello_factory(welcome_txt='hello'):\n",
    "    counter = 0\n",
    "    def greet(name):\n",
    "        nonlocal counter\n",
    "        counter += 1\n",
    "        print('{} {}!\\tcounter: {}'.format(welcome_txt, name, counter))\n",
    "    return greet\n",
    "        \n",
    "say_hello = hey_hi_hello_factory('hello')\n",
    "say_hi = hey_hi_hello_factory('hi')\n",
    "\n",
    "say_hello('Janek')\n",
    "say_hi('Magda')\n",
    "say_hello('Maciek')\n",
    "say_hello('Franek')\n",
    "say_hi('Kamila')"
   ]
  },
  {
   "cell_type": "markdown",
   "metadata": {
    "slideshow": {
     "slide_type": "subslide"
    }
   },
   "source": [
    "- Jak to się dzieje, że mamy różne `counter` dla różnych funkcji?\n",
    "- Kiedy jest tworzony scope funkcji?"
   ]
  },
  {
   "cell_type": "markdown",
   "metadata": {
    "slideshow": {
     "slide_type": "slide"
    }
   },
   "source": [
    "# 4. Powrót do dekoratorów"
   ]
  },
  {
   "cell_type": "markdown",
   "metadata": {
    "slideshow": {
     "slide_type": "subslide"
    }
   },
   "source": [
    "## Składnia"
   ]
  },
  {
   "cell_type": "markdown",
   "metadata": {
    "slideshow": {
     "slide_type": "subslide"
    }
   },
   "source": [
    "### Szkielet\n",
    "```python\n",
    "def decorator_name(function_object_to_be_decorated):\n",
    "    # decorator body\n",
    "    \n",
    "    \n",
    "@decorator_name\n",
    "def ordinary_function():\n",
    "    # ordinary_function body\n",
    "    \n",
    "# usage\n",
    "ordinary_function()\n",
    "```"
   ]
  },
  {
   "cell_type": "markdown",
   "metadata": {
    "slideshow": {
     "slide_type": "subslide"
    }
   },
   "source": [
    "### Wyjaśnienie szkieletu\n",
    "```python\n",
    "def decorator_name(function_object_to_be_decorated):\n",
    "    # decorator body\n",
    "    \n",
    "    \n",
    "@decorator_name\n",
    "def ordinary_function():\n",
    "    # ordinary_function body\n",
    "    \n",
    "    \n",
    "# mniej więcej to znaczy @decorator_name\n",
    "ordinary_function = decorator_name(ordinary_function)\n",
    "\n",
    "# usage\n",
    "ordinary_function()\n",
    "```"
   ]
  },
  {
   "cell_type": "markdown",
   "metadata": {
    "slideshow": {
     "slide_type": "slide"
    }
   },
   "source": [
    "## Wykonanie kodu zamiast udekorowanej funkcji"
   ]
  },
  {
   "cell_type": "code",
   "execution_count": 38,
   "metadata": {
    "slideshow": {
     "slide_type": "subslide"
    }
   },
   "outputs": [],
   "source": [
    "def blocker(to_be_blocked):\n",
    "    print(f'Blocked: {to_be_blocked.__name__}')"
   ]
  },
  {
   "cell_type": "code",
   "execution_count": 39,
   "metadata": {
    "slideshow": {
     "slide_type": "subslide"
    }
   },
   "outputs": [
    {
     "name": "stdout",
     "output_type": "stream",
     "text": [
      "Blocked: play_music\n"
     ]
    }
   ],
   "source": [
    "@blocker\n",
    "def play_music():\n",
    "    print('Music plays')"
   ]
  },
  {
   "cell_type": "code",
   "execution_count": 40,
   "metadata": {
    "scrolled": true,
    "slideshow": {
     "slide_type": "subslide"
    }
   },
   "outputs": [
    {
     "ename": "TypeError",
     "evalue": "'NoneType' object is not callable",
     "output_type": "error",
     "traceback": [
      "\u001b[0;31m---------------------------------------------------------------------------\u001b[0m",
      "\u001b[0;31mTypeError\u001b[0m                                 Traceback (most recent call last)",
      "\u001b[0;32m<ipython-input-40-f03034888486>\u001b[0m in \u001b[0;36m<module>\u001b[0;34m\u001b[0m\n\u001b[0;32m----> 1\u001b[0;31m \u001b[0mplay_music\u001b[0m\u001b[0;34m(\u001b[0m\u001b[0;34m)\u001b[0m\u001b[0;34m\u001b[0m\u001b[0;34m\u001b[0m\u001b[0m\n\u001b[0m",
      "\u001b[0;31mTypeError\u001b[0m: 'NoneType' object is not callable"
     ]
    }
   ],
   "source": [
    "play_music()"
   ]
  },
  {
   "cell_type": "markdown",
   "metadata": {
    "slideshow": {
     "slide_type": "fragment"
    }
   },
   "source": [
    "No i dramat - nie działa."
   ]
  },
  {
   "cell_type": "markdown",
   "metadata": {
    "slideshow": {
     "slide_type": "subslide"
    }
   },
   "source": [
    "Ale cos jednak zadziałało - kod zawarty w `blocker` został wykonany, ale nie wtedy kiedy chcieliśmy.\n",
    "Kod został wykonany w momencie \"opakowywania\" (dekorowania), a nie  w momencie wywołania funkcji `play_music`. W dodatku `play_music` stało sie w jakiś sposób `None`.\n",
    "\n",
    "Czy ktoś wie **dlaczego**?"
   ]
  },
  {
   "cell_type": "markdown",
   "metadata": {
    "slideshow": {
     "slide_type": "subslide"
    }
   },
   "source": [
    "## Wykonanie kodu zamiast udekorowanej funkcji, podejście nr 2"
   ]
  },
  {
   "cell_type": "markdown",
   "metadata": {
    "slideshow": {
     "slide_type": "fragment"
    }
   },
   "source": [
    "\n",
    "\n",
    "Już wiemy, że dekoratory muszą być funkcjami wyższego rzędu.\n"
   ]
  },
  {
   "cell_type": "code",
   "execution_count": 41,
   "metadata": {
    "slideshow": {
     "slide_type": "subslide"
    }
   },
   "outputs": [],
   "source": [
    "def blocker(to_be_blocked):\n",
    "    def print_blocker_msg():\n",
    "        print(f'Blocked: {to_be_blocked.__name__}')\n",
    "    return print_blocker_msg\n"
   ]
  },
  {
   "cell_type": "code",
   "execution_count": 42,
   "metadata": {
    "slideshow": {
     "slide_type": "subslide"
    }
   },
   "outputs": [],
   "source": [
    "@blocker\n",
    "def play_music():\n",
    "    print('Music plays')"
   ]
  },
  {
   "cell_type": "code",
   "execution_count": 43,
   "metadata": {
    "scrolled": true,
    "slideshow": {
     "slide_type": "subslide"
    }
   },
   "outputs": [
    {
     "name": "stdout",
     "output_type": "stream",
     "text": [
      "Blocked: play_music\n"
     ]
    }
   ],
   "source": [
    "play_music()"
   ]
  },
  {
   "cell_type": "code",
   "execution_count": 44,
   "metadata": {
    "scrolled": true,
    "slideshow": {
     "slide_type": "subslide"
    }
   },
   "outputs": [
    {
     "name": "stdout",
     "output_type": "stream",
     "text": [
      "Blocked: play_music\n",
      "Blocked: play_music\n",
      "Blocked: play_music\n"
     ]
    }
   ],
   "source": [
    "play_music()\n",
    "play_music()\n",
    "play_music()"
   ]
  },
  {
   "cell_type": "markdown",
   "metadata": {
    "slideshow": {
     "slide_type": "subslide"
    }
   },
   "source": [
    "Jeśli dekorujemy funkcję to dekorator powinien zwracać obiekt, który można \"zawołać\"/\"wykonać\" (callable)! "
   ]
  },
  {
   "cell_type": "markdown",
   "metadata": {
    "slideshow": {
     "slide_type": "slide"
    }
   },
   "source": [
    "## Wykonanie kodu przed i po udekorowanej funkcji"
   ]
  },
  {
   "cell_type": "code",
   "execution_count": 45,
   "metadata": {
    "slideshow": {
     "slide_type": "subslide"
    }
   },
   "outputs": [],
   "source": [
    "def wrapper(callable):\n",
    "    def inner():\n",
    "        print(f'Dzieję się przed {callable.__name__}')\n",
    "        val = callable()\n",
    "        print(f'Dzieję się po {callable.__name__}')\n",
    "        return val\n",
    "    return inner"
   ]
  },
  {
   "cell_type": "code",
   "execution_count": 46,
   "metadata": {
    "slideshow": {
     "slide_type": "fragment"
    }
   },
   "outputs": [],
   "source": [
    "@wrapper\n",
    "def say_hello():\n",
    "    print('hello')"
   ]
  },
  {
   "cell_type": "code",
   "execution_count": 47,
   "metadata": {
    "slideshow": {
     "slide_type": "fragment"
    }
   },
   "outputs": [
    {
     "name": "stdout",
     "output_type": "stream",
     "text": [
      "Dzieję się przed say_hello\n",
      "hello\n",
      "Dzieję się po say_hello\n"
     ]
    }
   ],
   "source": [
    "say_hello()"
   ]
  },
  {
   "cell_type": "markdown",
   "metadata": {
    "slideshow": {
     "slide_type": "subslide"
    }
   },
   "source": [
    "## Utrata informacji"
   ]
  },
  {
   "cell_type": "code",
   "execution_count": 48,
   "metadata": {
    "slideshow": {
     "slide_type": "subslide"
    }
   },
   "outputs": [
    {
     "name": "stdout",
     "output_type": "stream",
     "text": [
      "inner\n"
     ]
    }
   ],
   "source": [
    "print(say_hello.__name__)"
   ]
  },
  {
   "cell_type": "markdown",
   "metadata": {
    "slideshow": {
     "slide_type": "fragment"
    }
   },
   "source": [
    "Dekorowanie funkcji zabiera nam część informacji o tym co miało być wykonywane. Możemy się bardzo zdziwić w przypadku jakiegoś błędu, że nie rozumiemy czemu jakiś kawałek kodu się wykonał."
   ]
  },
  {
   "cell_type": "markdown",
   "metadata": {
    "slideshow": {
     "slide_type": "fragment"
    }
   },
   "source": [
    "Ale jest na to rozwiązanie!"
   ]
  },
  {
   "cell_type": "markdown",
   "metadata": {
    "slideshow": {
     "slide_type": "fragment"
    }
   },
   "source": [
    "Ponieważ to zajęcia z dekoratorów to problemy z dekoratorami będziemy rozwiązywać innymi dekoratorami."
   ]
  },
  {
   "cell_type": "markdown",
   "metadata": {
    "slideshow": {
     "slide_type": "subslide"
    }
   },
   "source": [
    "## wraps"
   ]
  },
  {
   "cell_type": "code",
   "execution_count": 49,
   "metadata": {
    "slideshow": {
     "slide_type": "subslide"
    }
   },
   "outputs": [],
   "source": [
    "from functools import wraps\n",
    "\n",
    "def wrapper(callable):\n",
    "    @wraps(callable)\n",
    "    def inner():\n",
    "        print(f'Dzieję się przed {callable.__name__}')\n",
    "        val = callable()\n",
    "        print(f'Dzieję się po {callable.__name__}')\n",
    "        return val\n",
    "    return inner"
   ]
  },
  {
   "cell_type": "code",
   "execution_count": 50,
   "metadata": {
    "slideshow": {
     "slide_type": "fragment"
    }
   },
   "outputs": [],
   "source": [
    "@wrapper\n",
    "def say_hello():\n",
    "    print('hello')"
   ]
  },
  {
   "cell_type": "code",
   "execution_count": 51,
   "metadata": {
    "slideshow": {
     "slide_type": "fragment"
    }
   },
   "outputs": [
    {
     "name": "stdout",
     "output_type": "stream",
     "text": [
      "say_hello\n"
     ]
    }
   ],
   "source": [
    "print(say_hello.__name__)"
   ]
  },
  {
   "cell_type": "markdown",
   "metadata": {
    "slideshow": {
     "slide_type": "slide"
    }
   },
   "source": [
    "# 5. Więcej niż jedno zwierzę"
   ]
  },
  {
   "cell_type": "markdown",
   "metadata": {
    "slideshow": {
     "slide_type": "subslide"
    }
   },
   "source": [
    "Czy można funkcję/klasę udekorować więcej niż jednym dekoratorem? "
   ]
  },
  {
   "cell_type": "markdown",
   "metadata": {
    "slideshow": {
     "slide_type": "subslide"
    }
   },
   "source": [
    "Można :)"
   ]
  },
  {
   "cell_type": "markdown",
   "metadata": {
    "slideshow": {
     "slide_type": "subslide"
    }
   },
   "source": [
    "### Składnia\n",
    "\n",
    "```python\n",
    "def dekorator_pierwszy(do_udekorowania):\n",
    "    # ciało pierwszego dekoratora\n",
    "    \n",
    "def dekorator_drugi(do_udekorowania):\n",
    "    # ciało drugirgo dekoratora\n",
    "```"
   ]
  },
  {
   "cell_type": "markdown",
   "metadata": {
    "slideshow": {
     "slide_type": "subslide"
    }
   },
   "source": [
    "```python\n",
    "@dekorator_pierwszy\n",
    "@dekorator_drugi\n",
    "def zwykla_funkcja():\n",
    "    # ciało zwykłej funkcji\n",
    "    \n",
    "# to znaczy mniej więcej\n",
    "zwykla_funkcja = dekorator_pierwszy(dekorator_drugi(zwykla_funkcja))\n",
    "# kolejność wykonywania: od najbardziej wewnętrznego do najbardziej zewnętrznego\n",
    "# czyli dekorator pierwszy od góry zostanie wykonany jako ostatni :)\n",
    "\n",
    "# użycie\n",
    "zwykla_funkcja()\n",
    "```"
   ]
  },
  {
   "cell_type": "markdown",
   "metadata": {
    "slideshow": {
     "slide_type": "subslide"
    }
   },
   "source": [
    "Warto pamiętać o używaniu `wraps` - bardzo sie przydaje w przypadku \"piętrowych\" dekoratorów - ułatwia zrozumienie co się dzieje."
   ]
  },
  {
   "cell_type": "markdown",
   "metadata": {
    "slideshow": {
     "slide_type": "slide"
    }
   },
   "source": [
    "# 6. Dekorowana funkcja z argumentami"
   ]
  },
  {
   "cell_type": "markdown",
   "metadata": {
    "slideshow": {
     "slide_type": "subslide"
    }
   },
   "source": [
    "Czasami bywa tak, że funkcja powinna przyjmować argumenty."
   ]
  },
  {
   "cell_type": "code",
   "execution_count": 52,
   "metadata": {
    "slideshow": {
     "slide_type": "subslide"
    }
   },
   "outputs": [],
   "source": [
    "from functools import wraps\n",
    "\n",
    "def bumelant(szybka_funkcja):\n",
    "    @wraps(szybka_funkcja)\n",
    "    def inner():\n",
    "        result = szybka_funkcja()\n",
    "        print('Zasada zachowania energii: zachowaj energię na później :)')\n",
    "        return result\n",
    "    return inner"
   ]
  },
  {
   "cell_type": "code",
   "execution_count": 53,
   "metadata": {
    "slideshow": {
     "slide_type": "subslide"
    }
   },
   "outputs": [],
   "source": [
    "@bumelant\n",
    "def play(music):\n",
    "    print('Gra: {}'.format(music))"
   ]
  },
  {
   "cell_type": "code",
   "execution_count": 54,
   "metadata": {
    "slideshow": {
     "slide_type": "subslide"
    }
   },
   "outputs": [
    {
     "ename": "TypeError",
     "evalue": "inner() takes 0 positional arguments but 1 was given",
     "output_type": "error",
     "traceback": [
      "\u001b[0;31m---------------------------------------------------------------------------\u001b[0m",
      "\u001b[0;31mTypeError\u001b[0m                                 Traceback (most recent call last)",
      "\u001b[0;32m<ipython-input-54-d3a1035300af>\u001b[0m in \u001b[0;36m<module>\u001b[0;34m\u001b[0m\n\u001b[0;32m----> 1\u001b[0;31m \u001b[0mplay\u001b[0m\u001b[0;34m(\u001b[0m\u001b[0;34m'jazz'\u001b[0m\u001b[0;34m)\u001b[0m\u001b[0;34m\u001b[0m\u001b[0;34m\u001b[0m\u001b[0m\n\u001b[0m",
      "\u001b[0;31mTypeError\u001b[0m: inner() takes 0 positional arguments but 1 was given"
     ]
    }
   ],
   "source": [
    "play('jazz')"
   ]
  },
  {
   "cell_type": "code",
   "execution_count": 55,
   "metadata": {
    "slideshow": {
     "slide_type": "subslide"
    }
   },
   "outputs": [],
   "source": [
    "from functools import wraps\n",
    "\n",
    "def bumelant(szybka_funkcja):\n",
    "    @wraps(szybka_funkcja)\n",
    "    def inner(*args):\n",
    "        result = szybka_funkcja(*args)\n",
    "        print('Zasada zachowania energii: zachowaj energię na później :)')\n",
    "        return result\n",
    "    return inner"
   ]
  },
  {
   "cell_type": "code",
   "execution_count": 56,
   "metadata": {
    "slideshow": {
     "slide_type": "subslide"
    }
   },
   "outputs": [],
   "source": [
    "@bumelant\n",
    "def play(music):\n",
    "    print('Gra: {}'.format(music))"
   ]
  },
  {
   "cell_type": "code",
   "execution_count": 57,
   "metadata": {
    "slideshow": {
     "slide_type": "subslide"
    }
   },
   "outputs": [
    {
     "name": "stdout",
     "output_type": "stream",
     "text": [
      "Gra: jazz\n",
      "Zasada zachowania energii: zachowaj energię na później :)\n"
     ]
    }
   ],
   "source": [
    "play('jazz')"
   ]
  },
  {
   "cell_type": "markdown",
   "metadata": {
    "slideshow": {
     "slide_type": "subslide"
    }
   },
   "source": [
    "A co gdybyśmy chcieli następującą funkcję opakować?"
   ]
  },
  {
   "cell_type": "code",
   "execution_count": 58,
   "metadata": {
    "slideshow": {
     "slide_type": "subslide"
    }
   },
   "outputs": [],
   "source": [
    "@bumelant\n",
    "def play(music='polskie regge'):\n",
    "    print('Gra: {}'.format(music))"
   ]
  },
  {
   "cell_type": "code",
   "execution_count": 59,
   "metadata": {
    "slideshow": {
     "slide_type": "subslide"
    }
   },
   "outputs": [
    {
     "name": "stdout",
     "output_type": "stream",
     "text": [
      "Gra: jazz\n",
      "Zasada zachowania energii: zachowaj energię na później :)\n"
     ]
    }
   ],
   "source": [
    "play('jazz')"
   ]
  },
  {
   "cell_type": "code",
   "execution_count": 60,
   "metadata": {
    "slideshow": {
     "slide_type": "subslide"
    }
   },
   "outputs": [
    {
     "name": "stdout",
     "output_type": "stream",
     "text": [
      "Gra: polskie regge\n",
      "Zasada zachowania energii: zachowaj energię na później :)\n"
     ]
    }
   ],
   "source": [
    "play()"
   ]
  },
  {
   "cell_type": "markdown",
   "metadata": {
    "slideshow": {
     "slide_type": "subslide"
    }
   },
   "source": [
    "* Dlaczego zadziałało?\n",
    "* A co się stanie gdy zmienimy sygnaturę funkcji opakowywanej na:  \n",
    "```python\n",
    "def play(*, music='polskie regge'):\n",
    "```\n",
    "* Czy można zrobić coś lepiej?\n"
   ]
  },
  {
   "cell_type": "markdown",
   "metadata": {
    "slideshow": {
     "slide_type": "slide"
    }
   },
   "source": [
    "# 7. Argumenty dekoratora"
   ]
  },
  {
   "cell_type": "markdown",
   "metadata": {
    "slideshow": {
     "slide_type": "subslide"
    }
   },
   "source": [
    "Z doświadczenia wiemy, że można przekazać argumenty bezpośrednio do dekoratora (`wraps`, `app.route`)."
   ]
  },
  {
   "cell_type": "markdown",
   "metadata": {
    "slideshow": {
     "slide_type": "subslide"
    }
   },
   "source": [
    "Wszystkie dotychczasowe nasze dekoratory przyjmowały za argument funkcję, którą mają opakować. Nie ma w nich miejsca na przekazanie argumentów w `@`."
   ]
  },
  {
   "cell_type": "code",
   "execution_count": 61,
   "metadata": {
    "slideshow": {
     "slide_type": "subslide"
    }
   },
   "outputs": [
    {
     "ename": "TypeError",
     "evalue": "'str' object is not callable",
     "output_type": "error",
     "traceback": [
      "\u001b[0;31m---------------------------------------------------------------------------\u001b[0m",
      "\u001b[0;31mTypeError\u001b[0m                                 Traceback (most recent call last)",
      "\u001b[0;32m<ipython-input-61-59617cc707ab>\u001b[0m in \u001b[0;36m<module>\u001b[0;34m\u001b[0m\n\u001b[1;32m      1\u001b[0m \u001b[0;34m@\u001b[0m\u001b[0mbumelant\u001b[0m\u001b[0;34m(\u001b[0m\u001b[0;34m'co masz zrobić dziś zrób pojutrze, będziesz mieć 2 dni wolnego'\u001b[0m\u001b[0;34m)\u001b[0m\u001b[0;34m\u001b[0m\u001b[0;34m\u001b[0m\u001b[0m\n\u001b[0;32m----> 2\u001b[0;31m \u001b[0;32mdef\u001b[0m \u001b[0mplay\u001b[0m\u001b[0;34m(\u001b[0m\u001b[0mmusic\u001b[0m\u001b[0;34m)\u001b[0m\u001b[0;34m:\u001b[0m\u001b[0;34m\u001b[0m\u001b[0;34m\u001b[0m\u001b[0m\n\u001b[0m\u001b[1;32m      3\u001b[0m     \u001b[0mprint\u001b[0m\u001b[0;34m(\u001b[0m\u001b[0;34m'Gra: {}'\u001b[0m\u001b[0;34m.\u001b[0m\u001b[0mformat\u001b[0m\u001b[0;34m(\u001b[0m\u001b[0mmusic\u001b[0m\u001b[0;34m)\u001b[0m\u001b[0;34m)\u001b[0m\u001b[0;34m\u001b[0m\u001b[0;34m\u001b[0m\u001b[0m\n",
      "\u001b[0;32m<ipython-input-55-4b97c49dbcd0>\u001b[0m in \u001b[0;36minner\u001b[0;34m(*args)\u001b[0m\n\u001b[1;32m      4\u001b[0m     \u001b[0;34m@\u001b[0m\u001b[0mwraps\u001b[0m\u001b[0;34m(\u001b[0m\u001b[0mszybka_funkcja\u001b[0m\u001b[0;34m)\u001b[0m\u001b[0;34m\u001b[0m\u001b[0;34m\u001b[0m\u001b[0m\n\u001b[1;32m      5\u001b[0m     \u001b[0;32mdef\u001b[0m \u001b[0minner\u001b[0m\u001b[0;34m(\u001b[0m\u001b[0;34m*\u001b[0m\u001b[0margs\u001b[0m\u001b[0;34m)\u001b[0m\u001b[0;34m:\u001b[0m\u001b[0;34m\u001b[0m\u001b[0;34m\u001b[0m\u001b[0m\n\u001b[0;32m----> 6\u001b[0;31m         \u001b[0mresult\u001b[0m \u001b[0;34m=\u001b[0m \u001b[0mszybka_funkcja\u001b[0m\u001b[0;34m(\u001b[0m\u001b[0;34m*\u001b[0m\u001b[0margs\u001b[0m\u001b[0;34m)\u001b[0m\u001b[0;34m\u001b[0m\u001b[0;34m\u001b[0m\u001b[0m\n\u001b[0m\u001b[1;32m      7\u001b[0m         \u001b[0mprint\u001b[0m\u001b[0;34m(\u001b[0m\u001b[0;34m'Zasada zachowania energii: zachowaj energię na później :)'\u001b[0m\u001b[0;34m)\u001b[0m\u001b[0;34m\u001b[0m\u001b[0;34m\u001b[0m\u001b[0m\n\u001b[1;32m      8\u001b[0m         \u001b[0;32mreturn\u001b[0m \u001b[0mresult\u001b[0m\u001b[0;34m\u001b[0m\u001b[0;34m\u001b[0m\u001b[0m\n",
      "\u001b[0;31mTypeError\u001b[0m: 'str' object is not callable"
     ]
    }
   ],
   "source": [
    "@bumelant('co masz zrobić dziś zrób pojutrze, będziesz mieć 2 dni wolnego')\n",
    "def play(music):\n",
    "    print('Gra: {}'.format(music))"
   ]
  },
  {
   "cell_type": "markdown",
   "metadata": {
    "slideshow": {
     "slide_type": "subslide"
    }
   },
   "source": [
    "Nie wiemy jeszcze jak napisać dekorator, który przyjmie argumenty. "
   ]
  },
  {
   "cell_type": "markdown",
   "metadata": {
    "slideshow": {
     "slide_type": "slide"
    }
   },
   "source": [
    "# 8. Fundamental theorem of software engineering"
   ]
  },
  {
   "cell_type": "markdown",
   "metadata": {
    "slideshow": {
     "slide_type": "fragment"
    }
   },
   "source": [
    "## \"We can solve any problem by introducing an extra level of indirection.\""
   ]
  },
  {
   "cell_type": "markdown",
   "metadata": {
    "slideshow": {
     "slide_type": "fragment"
    }
   },
   "source": [
    "* https://en.wikipedia.org/wiki/Fundamental_theorem_of_software_engineering"
   ]
  },
  {
   "cell_type": "markdown",
   "metadata": {
    "slideshow": {
     "slide_type": "subslide"
    }
   },
   "source": [
    "## Argumenty dekoratora, podejście nr 2"
   ]
  },
  {
   "cell_type": "markdown",
   "metadata": {
    "slideshow": {
     "slide_type": "subslide"
    }
   },
   "source": [
    "Jeśli się poważniej zastanowimy nad poprzednim przykładem to możemy dojść do wniosku, że przekazanie argumentów do dekoratora działa mniej więcej w następujący sposób:\n",
    "```python\n",
    "dekorator(argumenty_dekoratora)(cos_do_udekorowania)(argumenty_czegos_do_udekorowania)\n",
    "```"
   ]
  },
  {
   "cell_type": "markdown",
   "metadata": {
    "slideshow": {
     "slide_type": "subslide"
    }
   },
   "source": [
    "### Szkielet\n",
    "```python\n",
    "def dekorator(argumenty_dekoratora):\n",
    "    # ta funkcja ma za zadanie przechwycić argumenty i zwrócić\n",
    "    # \"prawdziwy\" dekorator\n",
    "    def prawdziwy_dekorator(do_udekorowania):\n",
    "        # Ta funkcja ma za zadanie przechwycić to co zostanie udekorowane.\n",
    "        def wrapper(*args, **kwargs):\n",
    "            # args i kwargs to argumenty funkcji dekorowanej\n",
    "            return to_co_chcemy\n",
    "        return wrapper\n",
    "    return prawdziwy_dekorator\n",
    "```"
   ]
  },
  {
   "cell_type": "markdown",
   "metadata": {
    "slideshow": {
     "slide_type": "subslide"
    }
   },
   "source": [
    "### Przykład 1"
   ]
  },
  {
   "cell_type": "code",
   "execution_count": 62,
   "metadata": {
    "slideshow": {
     "slide_type": "subslide"
    }
   },
   "outputs": [],
   "source": [
    "def bumelant(sentence):\n",
    "    print('decorator called with sentence:', sentence)\n",
    "    def real_decorator(to_be_decorated):\n",
    "        def wrapper(*args, **kwargs):\n",
    "            result = to_be_decorated(*args, **kwargs)\n",
    "            print('Zasada zachowania energii: zachowaj energię na później :)')\n",
    "            print('Sentencja dekoratora:', sentence)\n",
    "            return result\n",
    "        return wrapper\n",
    "    return real_decorator"
   ]
  },
  {
   "cell_type": "code",
   "execution_count": 63,
   "metadata": {
    "slideshow": {
     "slide_type": "subslide"
    }
   },
   "outputs": [
    {
     "name": "stdout",
     "output_type": "stream",
     "text": [
      "decorator called with sentence: Co masz zrobić dziś zrób pojutrze, będziesz mieć 2 dni wolnego\n"
     ]
    }
   ],
   "source": [
    "@bumelant('Co masz zrobić dziś zrób pojutrze, będziesz mieć 2 dni wolnego')\n",
    "def play(music):\n",
    "    print('Gra: {}'.format(music))"
   ]
  },
  {
   "cell_type": "code",
   "execution_count": 64,
   "metadata": {
    "slideshow": {
     "slide_type": "subslide"
    }
   },
   "outputs": [
    {
     "name": "stdout",
     "output_type": "stream",
     "text": [
      "Gra: song of victory\n",
      "Zasada zachowania energii: zachowaj energię na później :)\n",
      "Sentencja dekoratora: Co masz zrobić dziś zrób pojutrze, będziesz mieć 2 dni wolnego\n"
     ]
    }
   ],
   "source": [
    "play('song of victory')"
   ]
  },
  {
   "cell_type": "markdown",
   "metadata": {
    "slideshow": {
     "slide_type": "subslide"
    }
   },
   "source": [
    "###  Przykład 2"
   ]
  },
  {
   "cell_type": "code",
   "execution_count": 65,
   "metadata": {
    "slideshow": {
     "slide_type": "subslide"
    }
   },
   "outputs": [],
   "source": [
    "def my_wraps(original):\n",
    "    def outer_wrapper(to_be_decorated):\n",
    "        def wrapper(*args, **kwargs):\n",
    "            return to_be_decorated(*args, **kwargs)\n",
    "        wrapper.__name__ = original.__name__\n",
    "        return wrapper\n",
    "    return outer_wrapper"
   ]
  },
  {
   "cell_type": "code",
   "execution_count": 66,
   "metadata": {
    "slideshow": {
     "slide_type": "subslide"
    }
   },
   "outputs": [],
   "source": [
    "def przodownik(wolna_funkcja):\n",
    "    @my_wraps(wolna_funkcja)\n",
    "    def inner(*args, **kwargs):\n",
    "        print('Pierwszy!!1!')\n",
    "        return wolna_funkcja(*args, **kwargs)\n",
    "    return inner"
   ]
  },
  {
   "cell_type": "code",
   "execution_count": 67,
   "metadata": {
    "slideshow": {
     "slide_type": "subslide"
    }
   },
   "outputs": [],
   "source": [
    "@przodownik\n",
    "def play(music):\n",
    "    print('Gra: {}'.format(music))"
   ]
  },
  {
   "cell_type": "code",
   "execution_count": 68,
   "metadata": {
    "slideshow": {
     "slide_type": "subslide"
    }
   },
   "outputs": [
    {
     "name": "stdout",
     "output_type": "stream",
     "text": [
      "Pierwszy!!1!\n",
      "Gra: disco\n",
      "play\n"
     ]
    }
   ],
   "source": [
    "play('disco')\n",
    "print(play.__name__)"
   ]
  },
  {
   "cell_type": "markdown",
   "metadata": {
    "slideshow": {
     "slide_type": "slide"
    }
   },
   "source": [
    "# 9. Przykłady użytecznych dekoratorów "
   ]
  },
  {
   "cell_type": "markdown",
   "metadata": {
    "slideshow": {
     "slide_type": "subslide"
    }
   },
   "source": [
    "* lista użytecznych dekoratorów: https://github.com/lord63/awesome-python-decorator"
   ]
  },
  {
   "cell_type": "markdown",
   "metadata": {
    "slideshow": {
     "slide_type": "subslide"
    }
   },
   "source": [
    "## app.get()"
   ]
  },
  {
   "cell_type": "markdown",
   "metadata": {
    "slideshow": {
     "slide_type": "subslide"
    }
   },
   "source": [
    "## Cross Site Request Forgery"
   ]
  },
  {
   "cell_type": "markdown",
   "metadata": {
    "slideshow": {
     "slide_type": "subslide"
    }
   },
   "source": [
    "Django ma ochronę przed tym zagrożeniem wbudowaną w formie dekoratora.  \n",
    "Fastapi nie ma tego zabezpieczenia."
   ]
  },
  {
   "cell_type": "markdown",
   "metadata": {
    "slideshow": {
     "slide_type": "subslide"
    }
   },
   "source": [
    "## classmethod"
   ]
  },
  {
   "cell_type": "markdown",
   "metadata": {
    "slideshow": {
     "slide_type": "subslide"
    }
   },
   "source": [
    "Służy do wykonywania metod nie na instancji danej klasy tylko na danej klasie. Używany zazwyczaj do tworzenia alternatywnych konstruktorów/inicjalizatorów - najczęsciej wariacje `from_string`."
   ]
  },
  {
   "cell_type": "markdown",
   "metadata": {
    "slideshow": {
     "slide_type": "subslide"
    }
   },
   "source": [
    "## staticmethod"
   ]
  },
  {
   "cell_type": "markdown",
   "metadata": {
    "slideshow": {
     "slide_type": "subslide"
    }
   },
   "source": [
    "Służy do oznaczenia metody klasy jako statycznej. Takie metody nie przyjmują parametru `self` i są wywoływane na klasie a nie na instancji. Moim zdaniem takie metody lepiej przenieść do osobnych funkcji w module."
   ]
  },
  {
   "cell_type": "markdown",
   "metadata": {
    "slideshow": {
     "slide_type": "subslide"
    }
   },
   "source": [
    "Artykuł o `classmethod` i `staticmethod`: http://stackabuse.com/pythons-classmethod-and-staticmethod-explained/"
   ]
  },
  {
   "cell_type": "markdown",
   "metadata": {
    "slideshow": {
     "slide_type": "subslide"
    }
   },
   "source": [
    "## functools.wraps"
   ]
  },
  {
   "cell_type": "markdown",
   "metadata": {
    "slideshow": {
     "slide_type": "subslide"
    }
   },
   "source": [
    "## property"
   ]
  },
  {
   "cell_type": "markdown",
   "metadata": {
    "slideshow": {
     "slide_type": "subslide"
    }
   },
   "source": [
    "Pythonowa odpowiedź na gettery i settery. Jest o wiele lepsza niż XX wieczne metody."
   ]
  },
  {
   "cell_type": "markdown",
   "metadata": {
    "slideshow": {
     "slide_type": "subslide"
    }
   },
   "source": [
    "Pomocne linki:\n",
    "* dokumentacja: https://docs.python.org/3/library/functions.html#property\n",
    "* artykuł o tym jak używać: https://www.programiz.com/python-programming/property\n",
    "* inny artykul o tym jak używać: http://stackabuse.com/python-properties/\n"
   ]
  },
  {
   "cell_type": "markdown",
   "metadata": {
    "slideshow": {
     "slide_type": "subslide"
    }
   },
   "source": [
    "## functools.lru_cache"
   ]
  },
  {
   "cell_type": "markdown",
   "metadata": {
    "slideshow": {
     "slide_type": "subslide"
    }
   },
   "source": [
    "Moim zdaniem najlepszy dekorator ze wszystkich jakie spotkałem, najbardziej użyteczny.\n",
    "Dokumentacja: https://docs.python.org/3/library/functools.html#functools.lru_cache\n",
    "Ale należy uważać na standardowe problemy związane z cache.\n",
    "\n",
    "Czy ktoś jest w stanie podać jakiś problem związany z cache?"
   ]
  },
  {
   "cell_type": "markdown",
   "metadata": {
    "slideshow": {
     "slide_type": "slide"
    }
   },
   "source": [
    "# That's all folks!"
   ]
  }
 ],
 "metadata": {
  "celltoolbar": "Slideshow",
  "kernelspec": {
   "display_name": "Python 3",
   "language": "python",
   "name": "python3"
  },
  "language_info": {
   "codemirror_mode": {
    "name": "ipython",
    "version": 3
   },
   "file_extension": ".py",
   "mimetype": "text/x-python",
   "name": "python",
   "nbconvert_exporter": "python",
   "pygments_lexer": "ipython3",
   "version": "3.8.2"
  }
 },
 "nbformat": 4,
 "nbformat_minor": 4
}
